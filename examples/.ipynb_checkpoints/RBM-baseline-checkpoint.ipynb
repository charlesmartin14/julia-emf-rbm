{
 "cells": [
  {
   "cell_type": "markdown",
   "metadata": {},
   "source": [
    "### test implementing basic EMF iterations"
   ]
  },
  {
   "cell_type": "code",
   "execution_count": 1,
   "metadata": {
    "ExecuteTime": {
     "end_time": "2016-09-02T21:29:33.802207",
     "start_time": "2016-09-02T21:29:33.515437"
    },
    "collapsed": true
   },
   "outputs": [],
   "source": [
    "import numpy as np\n",
    "import h5py"
   ]
  },
  {
   "cell_type": "code",
   "execution_count": 2,
   "metadata": {
    "ExecuteTime": {
     "end_time": "2016-09-02T21:29:33.845726",
     "start_time": "2016-09-02T21:29:33.841878"
    },
    "collapsed": false
   },
   "outputs": [
    {
     "name": "stdout",
     "output_type": "stream",
     "text": [
      "('List of arrays in this file: \\n', [u'mnistexample___bias', u'mnistexample___vbias', u'mnistexample___weight'])\n"
     ]
    }
   ],
   "source": [
    "hf =  h5py.File('mnistexample_params.h5','r')\n",
    "print('List of arrays in this file: \\n', hf.keys())"
   ]
  },
  {
   "cell_type": "code",
   "execution_count": 3,
   "metadata": {
    "ExecuteTime": {
     "end_time": "2016-09-02T21:29:34.244931",
     "start_time": "2016-09-02T21:29:34.237259"
    },
    "collapsed": false,
    "scrolled": true
   },
   "outputs": [
    {
     "name": "stdout",
     "output_type": "stream",
     "text": [
      "(256,) (784,) (256, 784)\n"
     ]
    }
   ],
   "source": [
    "hb = np.array(hf.get('mnistexample___bias'))\n",
    "vb = np.array(hf.get('mnistexample___vbias'))\n",
    "W = np.array(hf.get('mnistexample___weight'))\n",
    "\n",
    "print hb.shape, vb.shape, W.shape"
   ]
  },
  {
   "cell_type": "code",
   "execution_count": 4,
   "metadata": {
    "ExecuteTime": {
     "end_time": "2016-09-02T21:29:34.532067",
     "start_time": "2016-09-02T21:29:34.528764"
    },
    "collapsed": false
   },
   "outputs": [],
   "source": [
    "hf.close()"
   ]
  },
  {
   "cell_type": "code",
   "execution_count": 5,
   "metadata": {
    "ExecuteTime": {
     "end_time": "2016-09-02T21:29:35.361130",
     "start_time": "2016-09-02T21:29:35.082777"
    },
    "collapsed": false
   },
   "outputs": [],
   "source": [
    "from sklearn.utils.fixes import expit    \n",
    "from sklearn.utils.extmath import safe_sparse_dot\n",
    "from sklearn import linear_model, datasets, metrics, preprocessing \n",
    "from sklearn.cross_validation import train_test_split\n",
    "from sklearn.metrics import accuracy_score"
   ]
  },
  {
   "cell_type": "code",
   "execution_count": 6,
   "metadata": {
    "ExecuteTime": {
     "end_time": "2016-09-02T21:29:35.453854",
     "start_time": "2016-09-02T21:29:35.450137"
    },
    "collapsed": false
   },
   "outputs": [],
   "source": [
    "def sig_means(x, b, W):\n",
    "    a = safe_sparse_dot(x, W.T) + b\n",
    "    return expit(a, out=a)"
   ]
  },
  {
   "cell_type": "code",
   "execution_count": 7,
   "metadata": {
    "ExecuteTime": {
     "end_time": "2016-09-02T21:29:40.219241",
     "start_time": "2016-09-02T21:29:40.179263"
    },
    "collapsed": false
   },
   "outputs": [],
   "source": [
    "mnist = datasets.fetch_mldata('MNIST original')\n",
    "X, Y = mnist.data, mnist.target"
   ]
  },
  {
   "cell_type": "code",
   "execution_count": 8,
   "metadata": {
    "ExecuteTime": {
     "end_time": "2016-09-02T21:29:42.169104",
     "start_time": "2016-09-02T21:29:40.419176"
    },
    "collapsed": true
   },
   "outputs": [],
   "source": [
    "# Pin to 0, 1 \n",
    "X = (X - np.min(X, 0)) / (np.max(X, 0) + 0.0001)  # 0-1 scaling\n",
    "X = preprocessing.binarize(X,0.001)"
   ]
  },
  {
   "cell_type": "code",
   "execution_count": 33,
   "metadata": {
    "ExecuteTime": {
     "end_time": "2016-09-02T21:29:01.951005",
     "start_time": "2016-09-02T21:29:01.947765"
    },
    "collapsed": true
   },
   "outputs": [],
   "source": [
    "from sklearn import linear_model, datasets, metrics, preprocessing \n",
    "from sklearn.cross_validation import train_test_split\n",
    "from sklearn.metrics import accuracy_score"
   ]
  },
  {
   "cell_type": "markdown",
   "metadata": {
    "ExecuteTime": {
     "end_time": "2016-09-02T13:46:51.700292",
     "start_time": "2016-09-02T13:46:51.661112"
    }
   },
   "source": [
    "### normal RBM\n"
   ]
  },
  {
   "cell_type": "code",
   "execution_count": 9,
   "metadata": {
    "ExecuteTime": {
     "end_time": "2016-09-02T21:48:55.488834",
     "start_time": "2016-09-02T21:30:05.600941"
    },
    "collapsed": false
   },
   "outputs": [
    {
     "name": "stdout",
     "output_type": "stream",
     "text": [
      "5000 0.9165\n"
     ]
    }
   ],
   "source": [
    "from sklearn.neural_network import BernoulliRBM\n",
    "\n",
    "B_rbm = BernoulliRBM()\n",
    "B_rbm.fit(X)\n",
    "\n",
    "p = sig_means(X,B_rbm.intercept_hidden_,B_rbm.components_)\n",
    "X_train, X_test, Y_train, Y_test = train_test_split(p, Y, test_size=0.2,random_state=0)\n",
    "for c in [5000]:\n",
    "    lr  = linear_model.LogisticRegression()\n",
    "    lr.C = c\n",
    "    lr.fit(X_train, Y_train)\n",
    "    Y_test_pred = lr.predict(X_test)\n",
    "    acc = accuracy_score(Y_test, Y_test_pred)\n",
    "\n",
    "    print c, acc"
   ]
  },
  {
   "cell_type": "markdown",
   "metadata": {
    "ExecuteTime": {
     "end_time": "2016-09-02T21:54:39.579199",
     "start_time": "2016-09-02T21:54:39.576608"
    },
    "collapsed": true
   },
   "source": [
    "# not great, but not crazy either"
   ]
  },
  {
   "cell_type": "code",
   "execution_count": null,
   "metadata": {
    "collapsed": true
   },
   "outputs": [],
   "source": []
  },
  {
   "cell_type": "code",
   "execution_count": null,
   "metadata": {
    "collapsed": true
   },
   "outputs": [],
   "source": []
  }
 ],
 "metadata": {
  "anaconda-cloud": {},
  "kernelspec": {
   "display_name": "Python [Root]",
   "language": "python",
   "name": "Python [Root]"
  },
  "language_info": {
   "codemirror_mode": {
    "name": "ipython",
    "version": 2
   },
   "file_extension": ".py",
   "mimetype": "text/x-python",
   "name": "python",
   "nbconvert_exporter": "python",
   "pygments_lexer": "ipython2",
   "version": "2.7.12"
  }
 },
 "nbformat": 4,
 "nbformat_minor": 0
}

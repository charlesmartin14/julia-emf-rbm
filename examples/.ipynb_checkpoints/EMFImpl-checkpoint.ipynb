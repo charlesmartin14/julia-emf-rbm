{
 "cells": [
  {
   "cell_type": "markdown",
   "metadata": {},
   "source": [
    "### test implementing basic EMF iterations"
   ]
  },
  {
   "cell_type": "code",
   "execution_count": 16,
   "metadata": {
    "ExecuteTime": {
     "end_time": "2016-08-24T13:05:30.123898",
     "start_time": "2016-08-24T13:05:30.120282"
    },
    "collapsed": true
   },
   "outputs": [],
   "source": [
    "import numpy as np\n",
    "import h5py"
   ]
  },
  {
   "cell_type": "code",
   "execution_count": 17,
   "metadata": {
    "ExecuteTime": {
     "end_time": "2016-08-24T13:05:30.362967",
     "start_time": "2016-08-24T13:05:30.357517"
    },
    "collapsed": false
   },
   "outputs": [
    {
     "name": "stdout",
     "output_type": "stream",
     "text": [
      "('List of arrays in this file: \\n', [u'mnistexample___bias', u'mnistexample___vbias', u'mnistexample___weight'])\n"
     ]
    }
   ],
   "source": [
    "hf =  h5py.File('mnistexample_params.h5','r')\n",
    "print('List of arrays in this file: \\n', hf.keys())"
   ]
  },
  {
   "cell_type": "code",
   "execution_count": 18,
   "metadata": {
    "ExecuteTime": {
     "end_time": "2016-08-24T13:05:31.037896",
     "start_time": "2016-08-24T13:05:31.026593"
    },
    "collapsed": false,
    "scrolled": true
   },
   "outputs": [
    {
     "name": "stdout",
     "output_type": "stream",
     "text": [
      "(256,) (784,) (256, 784)\n"
     ]
    }
   ],
   "source": [
    "hb = np.array(hf.get('mnistexample___bias'))\n",
    "vb = np.array(hf.get('mnistexample___vbias'))\n",
    "W = np.array(hf.get('mnistexample___weight'))\n",
    "\n",
    "print hb.shape, vb.shape, W.shape"
   ]
  },
  {
   "cell_type": "code",
   "execution_count": 19,
   "metadata": {
    "ExecuteTime": {
     "end_time": "2016-08-24T13:05:32.565795",
     "start_time": "2016-08-24T13:05:32.562095"
    },
    "collapsed": false
   },
   "outputs": [],
   "source": [
    "hf.close()"
   ]
  },
  {
   "cell_type": "code",
   "execution_count": 32,
   "metadata": {
    "ExecuteTime": {
     "end_time": "2016-08-24T13:12:18.000094",
     "start_time": "2016-08-24T13:12:17.604515"
    },
    "collapsed": false
   },
   "outputs": [],
   "source": [
    "from sklearn.utils.fixes import expit    \n",
    "from sklearn.utils.extmath import safe_sparse_dot\n",
    "from sklearn import linear_model, datasets, metrics, preprocessing \n",
    "from sklearn.cross_validation import train_test_split\n",
    "from sklearn.metrics import accuracy_score"
   ]
  },
  {
   "cell_type": "code",
   "execution_count": 33,
   "metadata": {
    "ExecuteTime": {
     "end_time": "2016-08-24T13:12:18.008773",
     "start_time": "2016-08-24T13:12:18.002650"
    },
    "collapsed": false
   },
   "outputs": [],
   "source": [
    "def sig_means(x, b, W):\n",
    "    a = safe_sparse_dot(x, W.T) + b\n",
    "    return expit(a, out=a)"
   ]
  },
  {
   "cell_type": "code",
   "execution_count": 60,
   "metadata": {
    "ExecuteTime": {
     "end_time": "2016-08-24T13:32:31.506342",
     "start_time": "2016-08-24T13:32:31.501418"
    },
    "collapsed": false,
    "scrolled": true
   },
   "outputs": [
    {
     "name": "stdout",
     "output_type": "stream",
     "text": [
      "is W2 an element wize multiply ?\n",
      "(256, 784) (256, 784)\n"
     ]
    }
   ],
   "source": [
    "W2 = W*W\n",
    "print \"is W2 an element wize multiply ?\" \n",
    "print W.shape, W2.shape"
   ]
  },
  {
   "cell_type": "code",
   "execution_count": null,
   "metadata": {
    "collapsed": true
   },
   "outputs": [],
   "source": []
  },
  {
   "cell_type": "code",
   "execution_count": 35,
   "metadata": {
    "ExecuteTime": {
     "end_time": "2016-08-24T13:12:19.357214",
     "start_time": "2016-08-24T13:12:19.293202"
    },
    "collapsed": false
   },
   "outputs": [],
   "source": [
    "mnist = datasets.fetch_mldata('MNIST original')\n",
    "X, Y = mnist.data, mnist.target"
   ]
  },
  {
   "cell_type": "code",
   "execution_count": 36,
   "metadata": {
    "ExecuteTime": {
     "end_time": "2016-08-24T13:15:58.837623",
     "start_time": "2016-08-24T13:15:57.099008"
    },
    "collapsed": true
   },
   "outputs": [],
   "source": [
    "# Pin to 0, 1 \n",
    "X = (X - np.min(X, 0)) / (np.max(X, 0) + 0.0001)  # 0-1 scaling\n",
    "X = preprocessing.binarize(X,0.001)"
   ]
  },
  {
   "cell_type": "code",
   "execution_count": 38,
   "metadata": {
    "ExecuteTime": {
     "end_time": "2016-08-24T13:19:01.970369",
     "start_time": "2016-08-24T13:19:01.056673"
    },
    "collapsed": false
   },
   "outputs": [],
   "source": [
    "h = mean_hiddens(X, hb, W)"
   ]
  },
  {
   "cell_type": "code",
   "execution_count": 53,
   "metadata": {
    "ExecuteTime": {
     "end_time": "2016-08-24T13:30:33.686469",
     "start_time": "2016-08-24T13:30:33.592900"
    },
    "collapsed": false
   },
   "outputs": [
    {
     "name": "stdout",
     "output_type": "stream",
     "text": [
      "(70000, 256) (70000, 256)\n"
     ]
    }
   ],
   "source": [
    "h2 = h*h\n",
    "print h.shape, h2.shape"
   ]
  },
  {
   "cell_type": "code",
   "execution_count": 40,
   "metadata": {
    "ExecuteTime": {
     "end_time": "2016-08-24T13:20:02.016817",
     "start_time": "2016-08-24T13:20:02.013265"
    },
    "collapsed": false
   },
   "outputs": [
    {
     "name": "stdout",
     "output_type": "stream",
     "text": [
      "(70000, 784)\n"
     ]
    }
   ],
   "source": [
    "v = X\n",
    "print v.shape"
   ]
  },
  {
   "cell_type": "code",
   "execution_count": 42,
   "metadata": {
    "ExecuteTime": {
     "end_time": "2016-08-24T13:25:31.075024",
     "start_time": "2016-08-24T13:25:31.070522"
    },
    "collapsed": false,
    "scrolled": false
   },
   "outputs": [
    {
     "name": "stdout",
     "output_type": "stream",
     "text": [
      "(70000, 256) (70000, 256) (70000, 784) (256, 784)\n"
     ]
    }
   ],
   "source": [
    "print h.shape, h2.shape, v.shape, W2.shape"
   ]
  },
  {
   "cell_type": "markdown",
   "metadata": {},
   "source": [
    "### run an RBM right here"
   ]
  },
  {
   "cell_type": "code",
   "execution_count": 85,
   "metadata": {
    "ExecuteTime": {
     "end_time": "2016-08-24T15:20:33.910155",
     "start_time": "2016-08-24T15:20:33.888108"
    },
    "collapsed": false,
    "scrolled": true
   },
   "outputs": [],
   "source": [
    "def equilibrate(W, v0, h0, iters=3, damp=0.5):\n",
    "    mv = v0\n",
    "    mh = h0\n",
    "\n",
    "    W2 = W*W\n",
    "    for i in range(iters):\n",
    "        mv = damp * mv_update(W2, mv, mh) +(1.0-damp) * mv\n",
    "        mh = damp * mh_update(W2, mv, mh) + (1.0-damp) * mh\n",
    "    end\n",
    "\n",
    "    return m_vis, m_hid"
   ]
  },
  {
   "cell_type": "code",
   "execution_count": 86,
   "metadata": {
    "ExecuteTime": {
     "end_time": "2016-08-24T15:20:35.266078",
     "start_time": "2016-08-24T15:20:35.254533"
    },
    "collapsed": true
   },
   "outputs": [],
   "source": [
    "def mv_update(W2, h, v):\n",
    "    h2 = h*h\n",
    "    a = np.dot(np.dot((h-h2),W2).T,(0.5-v))\n",
    "    return expit(a, out=a)"
   ]
  },
  {
   "cell_type": "code",
   "execution_count": 87,
   "metadata": {
    "ExecuteTime": {
     "end_time": "2016-08-24T15:20:35.451824",
     "start_time": "2016-08-24T15:20:35.445749"
    },
    "collapsed": true
   },
   "outputs": [],
   "source": [
    "def mh_update(W2, h, v):\n",
    "    v2 = v*v\n",
    "    a = np.dot(np.dot((v-v2),W2).T,(0.5-h))\n",
    "    return expit(a, out=a)"
   ]
  },
  {
   "cell_type": "code",
   "execution_count": 92,
   "metadata": {
    "ExecuteTime": {
     "end_time": "2016-08-24T15:43:46.810686",
     "start_time": "2016-08-24T15:43:46.775400"
    },
    "collapsed": true
   },
   "outputs": [],
   "source": [
    "#\n",
    "# whenever we use v_pos, we need safe_sparse_dot\n",
    "#\n",
    "# lr: learning_rate\n",
    "# mom: momentum\n",
    "#\n",
    "def update_weights(W, dW, W_prev,  lr, mom, v_pos, h_pos, v_neg, h_ne, decay, decay_norm=None):    \n",
    "    dW = safe_sparse_dot(v_pos.T, h_pos, dense_output=True).T\n",
    "    dW -= np.dot(h_neg.T, v_neg)\n",
    "    \n",
    "    h_neg2 = h_neg*h_neg\n",
    "    v_neg2 = v_neg*v_neg\n",
    "    dW -=  np.dot(np.dot(np.dot((h_neg-h_neg2),W2).T,(v_neg-v_neg2)),W)\n",
    "\n",
    "    # momemtum\n",
    "    dW += mom *dW_prev \n",
    "    \n",
    "    # this nees to be pre-computed \n",
    "    # weight decay (L1 or L2)\n",
    "    #   -lr * L1-Penalty-Gradient \n",
    "    #   -lr * L2-Penalty-Gradient \n",
    "    if decay_norm=='L1':\n",
    "        dW -= decay * np.sign(W)\n",
    "    elif decay_norm=='L2':\n",
    "        dW -= decay * W\n",
    "    \n",
    "    \n",
    "    # BLAS ?\n",
    "    W +=  lr * dW   \n",
    "    \n",
    "    # update the rest\n",
    "    W2 = W*W\n",
    "    W_prev = W\n",
    "    \n",
    "    return W, W2, W_prev"
   ]
  },
  {
   "cell_type": "code",
   "execution_count": 82,
   "metadata": {
    "ExecuteTime": {
     "end_time": "2016-08-24T15:17:41.742282",
     "start_time": "2016-08-24T15:17:41.735406"
    },
    "collapsed": true
   },
   "outputs": [],
   "source": [
    "# intercepts += v_update, h_update\n",
    "def update_intercepts(lr, v_pos, h_pos, v_neg, h_neg):\n",
    "    h_update = lr * (h_pos.sum(axis=0) - h_neg.sum(axis=0))\n",
    "    v_update = lr * (np.asarray(v_pos.sum(axis=0)).squeeze() - v_neg.sum(axis=0))\n",
    "    return v_update, h_update\n",
    "    "
   ]
  },
  {
   "cell_type": "code",
   "execution_count": 84,
   "metadata": {
    "ExecuteTime": {
     "end_time": "2016-08-24T15:17:46.180497",
     "start_time": "2016-08-24T15:17:46.174226"
    },
    "collapsed": false
   },
   "outputs": [],
   "source": [
    "def h_binomial_samples(h_neg):\n",
    "    h_neg[rng.uniform(size=h_neg.shape) < h_neg] = 1.0  \n",
    "    return np.floor(h_neg, h_neg)"
   ]
  },
  {
   "cell_type": "code",
   "execution_count": 97,
   "metadata": {
    "ExecuteTime": {
     "end_time": "2016-08-24T16:06:36.464984",
     "start_time": "2016-08-24T16:06:36.460880"
    },
    "collapsed": false
   },
   "outputs": [],
   "source": [
    "def calc_weight_gradient():\n",
    "    dW = 0.0"
   ]
  },
  {
   "cell_type": "code",
   "execution_count": 96,
   "metadata": {
    "ExecuteTime": {
     "end_time": "2016-08-24T16:06:33.967936",
     "start_time": "2016-08-24T16:06:33.962927"
    },
    "collapsed": true
   },
   "outputs": [],
   "source": [
    "def regularize_weight_gradient():\n",
    "    dW = 0.0"
   ]
  },
  {
   "cell_type": "code",
   "execution_count": null,
   "metadata": {
    "collapsed": true
   },
   "outputs": [],
   "source": []
  }
 ],
 "metadata": {
  "anaconda-cloud": {},
  "kernelspec": {
   "display_name": "Python [Root]",
   "language": "python",
   "name": "Python [Root]"
  },
  "language_info": {
   "codemirror_mode": {
    "name": "ipython",
    "version": 2
   },
   "file_extension": ".py",
   "mimetype": "text/x-python",
   "name": "python",
   "nbconvert_exporter": "python",
   "pygments_lexer": "ipython2",
   "version": "2.7.12"
  }
 },
 "nbformat": 4,
 "nbformat_minor": 0
}

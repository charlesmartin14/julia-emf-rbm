{
 "cells": [
  {
   "cell_type": "markdown",
   "metadata": {},
   "source": [
    "### compute classification accuracy using EMF RBM features"
   ]
  },
  {
   "cell_type": "code",
   "execution_count": 1,
   "metadata": {
    "ExecuteTime": {
     "end_time": "2016-09-05T08:34:08.359020",
     "start_time": "2016-09-05T08:34:08.104192"
    },
    "collapsed": true
   },
   "outputs": [],
   "source": [
    "import numpy as np\n",
    "import h5py"
   ]
  },
  {
   "cell_type": "code",
   "execution_count": 2,
   "metadata": {
    "ExecuteTime": {
     "end_time": "2016-09-05T08:34:08.936866",
     "start_time": "2016-09-05T08:34:08.932716"
    },
    "collapsed": false,
    "scrolled": true
   },
   "outputs": [
    {
     "name": "stdout",
     "output_type": "stream",
     "text": [
      "('List of arrays in this file: \\n', [u'mnistexample___bias', u'mnistexample___vbias', u'mnistexample___weight'])\n"
     ]
    }
   ],
   "source": [
    "hf =  h5py.File('mnist_tap2.h5','r')\n",
    "print('List of arrays in this file: \\n', hf.keys())"
   ]
  },
  {
   "cell_type": "code",
   "execution_count": 3,
   "metadata": {
    "ExecuteTime": {
     "end_time": "2016-09-05T08:34:09.467376",
     "start_time": "2016-09-05T08:34:09.460490"
    },
    "collapsed": false
   },
   "outputs": [
    {
     "name": "stdout",
     "output_type": "stream",
     "text": [
      "(256,) (784,) (256, 784)\n"
     ]
    }
   ],
   "source": [
    "b = np.array(hf.get('mnistexample___bias'))\n",
    "vb = np.array(hf.get('mnistexample___vbias'))\n",
    "w = np.array(hf.get('mnistexample___weight'))\n",
    "\n",
    "print b.shape, vb.shape, w.shape"
   ]
  },
  {
   "cell_type": "code",
   "execution_count": 4,
   "metadata": {
    "ExecuteTime": {
     "end_time": "2016-09-05T08:34:09.663709",
     "start_time": "2016-09-05T08:34:09.660747"
    },
    "collapsed": true
   },
   "outputs": [],
   "source": [
    "hf.close()"
   ]
  },
  {
   "cell_type": "code",
   "execution_count": 5,
   "metadata": {
    "ExecuteTime": {
     "end_time": "2016-09-05T08:34:09.947634",
     "start_time": "2016-09-05T08:34:09.874687"
    },
    "collapsed": false
   },
   "outputs": [],
   "source": [
    "from sklearn.utils.fixes import expit    \n",
    "from sklearn.utils.extmath import safe_sparse_dot"
   ]
  },
  {
   "cell_type": "code",
   "execution_count": 6,
   "metadata": {
    "ExecuteTime": {
     "end_time": "2016-09-05T08:34:10.373137",
     "start_time": "2016-09-05T08:34:10.369677"
    },
    "collapsed": true
   },
   "outputs": [],
   "source": [
    "def sig_means(x, b, W):\n",
    "    a = safe_sparse_dot(x, W.T) + b\n",
    "    return expit(a, out=a)"
   ]
  },
  {
   "cell_type": "code",
   "execution_count": null,
   "metadata": {
    "ExecuteTime": {
     "end_time": "2016-09-02T21:44:43.080891",
     "start_time": "2016-09-02T21:44:43.076594"
    },
    "collapsed": false
   },
   "outputs": [],
   "source": []
  },
  {
   "cell_type": "code",
   "execution_count": 7,
   "metadata": {
    "ExecuteTime": {
     "end_time": "2016-09-05T08:34:11.369413",
     "start_time": "2016-09-05T08:34:11.199773"
    },
    "collapsed": true
   },
   "outputs": [],
   "source": [
    "from sklearn import linear_model, datasets, metrics, preprocessing \n",
    "from sklearn.cross_validation import train_test_split\n",
    "from sklearn.metrics import accuracy_score"
   ]
  },
  {
   "cell_type": "code",
   "execution_count": 8,
   "metadata": {
    "ExecuteTime": {
     "end_time": "2016-09-05T08:34:13.427425",
     "start_time": "2016-09-05T08:34:11.954973"
    },
    "collapsed": true
   },
   "outputs": [],
   "source": [
    "# Load Data\n",
    "mnist = datasets.fetch_mldata('MNIST original')\n",
    "X, Y = mnist.data, mnist.target\n",
    "# Pin to 0, 1 \n",
    "X = (X - np.min(X, 0)) / (np.max(X, 0) + 0.0001)  # 0-1 scaling\n",
    "X = preprocessing.binarize(X,0.001)"
   ]
  },
  {
   "cell_type": "markdown",
   "metadata": {},
   "source": [
    "#### TODO: replace with actual X data from julia ?"
   ]
  },
  {
   "cell_type": "code",
   "execution_count": 9,
   "metadata": {
    "ExecuteTime": {
     "end_time": "2016-09-05T08:50:34.527323",
     "start_time": "2016-09-05T08:34:15.418867"
    },
    "collapsed": false
   },
   "outputs": [
    {
     "name": "stdout",
     "output_type": "stream",
     "text": [
      "5000 0.944142857143\n"
     ]
    }
   ],
   "source": [
    "p = sig_means(X, b, w)\n",
    "X_train, X_test, Y_train, Y_test = train_test_split(p, Y, test_size=0.2,random_state=0)\n",
    "\n",
    "for c in [5000]:\n",
    "    lr  = linear_model.LogisticRegression()\n",
    "    lr.C = c\n",
    "    lr.fit(X_train, Y_train)\n",
    "    Y_test_pred = lr.predict(X_test)\n",
    "    acc = accuracy_score(Y_test, Y_test_pred)\n",
    "\n",
    "    print c, acc"
   ]
  },
  {
   "cell_type": "markdown",
   "metadata": {
    "ExecuteTime": {
     "end_time": "2016-09-05T00:54:12.663964",
     "start_time": "2016-09-05T00:54:12.480827"
    },
    "collapsed": true
   },
   "source": [
    "## this works pretty darn well !\n",
    "\n",
    "### better than my implementation\n",
    "\n",
    "can check by writing unit tests ?\n",
    "\n"
   ]
  },
  {
   "cell_type": "markdown",
   "metadata": {
    "ExecuteTime": {
     "end_time": "2016-09-05T08:50:34.531578",
     "start_time": "2016-09-05T08:50:34.529007"
    }
   },
   "source": [
    "### TODO:  \n",
    "\n",
    " - implement all code in class\n",
    " - implement score_samples_TAP\n",
    " - develop careful unit tests to check as much as possible\n",
    " - check performance\n",
    " - more comparisons  with julia code:  more data\n",
    " - prep for github:  docs, tests, packaging, etc.\n",
    " - start working on blog\n",
    " - implement temperature / sampling\n",
    " - test on docs\n",
    " "
   ]
  },
  {
   "cell_type": "code",
   "execution_count": null,
   "metadata": {
    "collapsed": true
   },
   "outputs": [],
   "source": []
  }
 ],
 "metadata": {
  "anaconda-cloud": {},
  "kernelspec": {
   "display_name": "Python [Root]",
   "language": "python",
   "name": "Python [Root]"
  },
  "language_info": {
   "codemirror_mode": {
    "name": "ipython",
    "version": 2
   },
   "file_extension": ".py",
   "mimetype": "text/x-python",
   "name": "python",
   "nbconvert_exporter": "python",
   "pygments_lexer": "ipython2",
   "version": "2.7.12"
  }
 },
 "nbformat": 4,
 "nbformat_minor": 0
}
